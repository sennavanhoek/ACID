{
 "cells": [
  {
   "cell_type": "markdown",
   "id": "c98ae619-4740-45da-b8ae-386f8da49efd",
   "metadata": {
    "tags": []
   },
   "source": [
    "# ACID: A Cryptographic Instruction-pattern Display"
   ]
  },
  {
   "cell_type": "markdown",
   "id": "cab1bcec-1358-4f40-943a-78880837b56a",
   "metadata": {
    "tags": []
   },
   "source": [
    "## Analize files and select functions"
   ]
  },
  {
   "cell_type": "code",
   "execution_count": 1,
   "id": "628112b2-4e26-4d1c-aecd-6142040193ee",
   "metadata": {
    "tags": []
   },
   "outputs": [
    {
     "data": {
      "application/json": {
       "ascii": false,
       "bar_format": null,
       "colour": null,
       "elapsed": 0.00501561164855957,
       "initial": 0,
       "n": 0,
       "ncols": null,
       "nrows": 24,
       "postfix": null,
       "prefix": "Binary Analysis",
       "rate": null,
       "total": 6,
       "unit": "it",
       "unit_divisor": 1000,
       "unit_scale": false
      },
      "application/vnd.jupyter.widget-view+json": {
       "model_id": "c36609b6ef0a47ea83cf3ba241a65585",
       "version_major": 2,
       "version_minor": 0
      },
      "text/plain": [
       "Binary Analysis:   0%|          | 0/6 [00:00<?, ?it/s]"
      ]
     },
     "metadata": {},
     "output_type": "display_data"
    },
    {
     "data": {
      "application/json": {
       "ascii": false,
       "bar_format": null,
       "colour": null,
       "elapsed": 0.005212545394897461,
       "initial": 0,
       "n": 0,
       "ncols": null,
       "nrows": 24,
       "postfix": null,
       "prefix": "Building Selector",
       "rate": null,
       "total": 6,
       "unit": "it",
       "unit_divisor": 1000,
       "unit_scale": false
      },
      "application/vnd.jupyter.widget-view+json": {
       "model_id": "aedbac09c4624cb79488ee7039848400",
       "version_major": 2,
       "version_minor": 0
      },
      "text/plain": [
       "Building Selector:   0%|          | 0/6 [00:00<?, ?it/s]"
      ]
     },
     "metadata": {},
     "output_type": "display_data"
    },
    {
     "data": {
      "application/vnd.jupyter.widget-view+json": {
       "model_id": "3957db0ed8f84be89323a3eb61e09dce",
       "version_major": 2,
       "version_minor": 0
      },
      "text/plain": [
       "Tab(children=(VBox(children=(Accordion(children=(Output(),), titles=('Simplified Call Graph',)), Accordion(chi…"
      ]
     },
     "metadata": {},
     "output_type": "display_data"
    }
   ],
   "source": [
    "from corrosion import *\n",
    "from IPython.display import display\n",
    "from tqdm.notebook import tqdm\n",
    "\n",
    "TARGETS_FOLDER = 'targets/'\n",
    "\n",
    "targets = list(files(TARGETS_FOLDER))\n",
    "\n",
    "files_analyzed = {}\n",
    "\n",
    "for f in tqdm(sorted(targets), desc='Binary Analysis'):\n",
    "    analysis = analyze_file(TARGETS_FOLDER+f)\n",
    "    if analysis:\n",
    "        files_analyzed[f] = analysis\n",
    "\n",
    "function_selector = build_function_selector(files_analyzed)\n",
    "display(function_selector)"
   ]
  },
  {
   "cell_type": "markdown",
   "id": "c5bb6df8-e77f-4e24-81a2-90c357c80e6e",
   "metadata": {
    "tags": []
   },
   "source": [
    "## Settings"
   ]
  },
  {
   "cell_type": "code",
   "execution_count": 2,
   "id": "cc110715-889a-4696-a254-822d027aff77",
   "metadata": {
    "tags": []
   },
   "outputs": [
    {
     "data": {
      "application/vnd.jupyter.widget-view+json": {
       "model_id": "675f5fada2de498d9d4aaaf119436281",
       "version_major": 2,
       "version_minor": 0
      },
      "text/plain": [
       "Tab(children=(VBox(children=(Label(value='Pattern Length:'), IntSlider(value=3, max=6, min=2), Label(value='Am…"
      ]
     },
     "metadata": {},
     "output_type": "display_data"
    }
   ],
   "source": [
    "selected_functions = get_selected_functions(function_selector)\n",
    "label_set, file_label_sets = collect_label_sets(files_analyzed, selected_functions)\n",
    "settings_selector = get_settings_selector(label_set)\n",
    "display(settings_selector)"
   ]
  },
  {
   "cell_type": "markdown",
   "id": "c2290dc2-55e1-4227-b94b-035de203469f",
   "metadata": {},
   "source": [
    "## Show analysis"
   ]
  },
  {
   "cell_type": "code",
   "execution_count": 3,
   "id": "46849988-fdd7-4b7a-98ef-fd323e0a2825",
   "metadata": {
    "tags": []
   },
   "outputs": [
    {
     "data": {
      "application/vnd.jupyter.widget-view+json": {
       "model_id": "79f3d51c13c34ff2b9eec7136c742b6d",
       "version_major": 2,
       "version_minor": 0
      },
      "text/plain": [
       "Tab(children=(Output(),), selected_index=0, titles=('Tiny_AES.elf',))"
      ]
     },
     "metadata": {},
     "output_type": "display_data"
    }
   ],
   "source": [
    "settings = get_settings(settings_selector)\n",
    "report = generate_report(selected_functions, files_analyzed, file_label_sets, settings)\n",
    "display(report)\n"
   ]
  },
  {
   "cell_type": "code",
   "execution_count": null,
   "id": "08436184-56e7-4642-80ad-703d35231163",
   "metadata": {},
   "outputs": [],
   "source": []
  }
 ],
 "metadata": {
  "kernelspec": {
   "display_name": "Python 3 (ipykernel)",
   "language": "python",
   "name": "python3"
  },
  "language_info": {
   "codemirror_mode": {
    "name": "ipython",
    "version": 3
   },
   "file_extension": ".py",
   "mimetype": "text/x-python",
   "name": "python",
   "nbconvert_exporter": "python",
   "pygments_lexer": "ipython3",
   "version": "3.10.7"
  }
 },
 "nbformat": 4,
 "nbformat_minor": 5
}
